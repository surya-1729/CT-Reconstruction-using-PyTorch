{
 "cells": [
  {
   "cell_type": "markdown",
   "metadata": {},
   "source": [
    " Importing libraries and downloading MNIST data"
   ]
  },
  {
   "cell_type": "code",
   "execution_count": 12,
   "metadata": {
    "scrolled": false
   },
   "outputs": [],
   "source": [
    "import torch\n",
    "#import torch.nn as nn\n",
    "#import torch.functional as F\n",
    "import torchvision.datasets as dset\n",
    "from torch.utils.data import Dataset, TensorDataset\n",
    "from torchvision.transforms import ToTensor\n",
    "\n",
    "#import torchvision.transforms as transforms\n",
    "\n",
    "input_traindata = dset.MNIST( root=\"./data\", train = True, transform = ToTensor(),\n",
    "                          download= True)\n",
    "\n",
    "ny,nx = input_traindata.data[0].shape\n",
    "input_traindata = input_traindata.data.float()/255\n"
   ]
  },
  {
   "cell_type": "markdown",
   "metadata": {},
   "source": [
    "Defining A matrix and Theta steps"
   ]
  },
  {
   "cell_type": "code",
   "execution_count": 13,
   "metadata": {},
   "outputs": [],
   "source": [
    "\n",
    "import numpy as np\n",
    "from skimage.transform import radon,rescale,resize\n",
    "\n",
    "\n",
    "theta = np.linspace(0.,180.,26, endpoint=False)\n",
    "\n",
    "def getRadonMatrix(theta,ny,nx):\n",
    "    colum_of_A = radon(np.zeros((ny,nx)), theta=theta)  #  this is just to know the size of this\n",
    "    A = np.zeros((colum_of_A.size,nx*ny))\n",
    "    for i in range(ny):\n",
    "        for j in range(nx):\n",
    "            basis_vec = np.zeros((ny,nx))\n",
    "            basis_vec[i,j] = 1\n",
    "            colum_of_A = radon(basis_vec, theta=theta)\n",
    "            A[:,j+i*nx] = np.reshape(colum_of_A, colum_of_A.size)\n",
    "            \n",
    "    return A\n",
    "\n",
    "    "
   ]
  },
  {
   "cell_type": "markdown",
   "metadata": {},
   "source": [
    "Generating Sinograms and adding Noise to the Sinogram images "
   ]
  },
  {
   "cell_type": "code",
   "execution_count": 14,
   "metadata": {},
   "outputs": [
    {
     "name": "stderr",
     "output_type": "stream",
     "text": [
      "C:\\Users\\asvp0\\Anaconda3\\envs\\dl21\\lib\\site-packages\\skimage\\transform\\radon_transform.py:75: UserWarning: Radon transform: image must be zero outside the reconstruction circle\n",
      "  warn('Radon transform: image must be zero outside the '\n"
     ]
    }
   ],
   "source": [
    "noise_level = 0.01\n",
    "A = getRadonMatrix(theta,ny,nx)\n",
    "sinograms = torch.reshape((torch.reshape(input_traindata.data, (input_traindata.data.shape[0], input_traindata.data.shape[1]*input_traindata.data.shape[2])) @ A.T),\n",
    "                          (input_traindata.data.shape[0], len(theta),ny))\n",
    "sinogram_noisy = sinograms + noise_level*torch.randn(sinograms.shape)"
   ]
  },
  {
   "cell_type": "markdown",
   "metadata": {},
   "source": [
    "Custom dataset with sinogram noisy images and image data as labels"
   ]
  },
  {
   "cell_type": "code",
   "execution_count": 15,
   "metadata": {},
   "outputs": [],
   "source": [
    "train_data =TensorDataset(torch.reshape(sinogram_noisy,(sinogram_noisy.shape[0],sinogram_noisy.shape[1]*sinogram_noisy.shape[2])), torch.reshape(input_traindata.data,(input_traindata.data.shape[0], input_traindata.data.shape[1]*input_traindata.data.shape[2])))\n",
    "\n"
   ]
  },
  {
   "cell_type": "markdown",
   "metadata": {},
   "source": []
  },
  {
   "cell_type": "code",
   "execution_count": 5,
   "metadata": {},
   "outputs": [
    {
     "data": {
      "text/plain": [
       "1000"
      ]
     },
     "execution_count": 5,
     "metadata": {},
     "output_type": "execute_result"
    }
   ],
   "source": [
    "\n",
    "trainloader = torch.utils.data.DataLoader(train_data, batch_size=60, shuffle=True)\n",
    "len(trainloader)"
   ]
  },
  {
   "cell_type": "markdown",
   "metadata": {},
   "source": [
    "setting neural network along with the loss and ADAM Optimizer"
   ]
  },
  {
   "cell_type": "code",
   "execution_count": 10,
   "metadata": {},
   "outputs": [],
   "source": [
    "import torch.nn as nn\n",
    "class my_network(nn.Module):\n",
    "    def __init__(self,dimension_of_sinogram , number_of_pixels):\n",
    "        super(my_network,self).__init__()\n",
    "        self.fc1 = nn.Linear(dimension_of_sinogram , number_of_pixels, bias=False)\n",
    "        self.double()\n",
    "        \n",
    "    def forward(self, x):\n",
    "        return self.fc1(x)\n",
    "\n",
    "    "
   ]
  },
  {
   "cell_type": "code",
   "execution_count": 12,
   "metadata": {},
   "outputs": [
    {
     "name": "stdout",
     "output_type": "stream",
     "text": [
      "tensor(0.0268, dtype=torch.float64, grad_fn=<MseLossBackward0>)\n",
      "tensor(0.0210, dtype=torch.float64, grad_fn=<MseLossBackward0>)\n",
      "tensor(0.0220, dtype=torch.float64, grad_fn=<MseLossBackward0>)\n",
      "tensor(0.0199, dtype=torch.float64, grad_fn=<MseLossBackward0>)\n",
      "tensor(0.0127, dtype=torch.float64, grad_fn=<MseLossBackward0>)\n",
      "tensor(0.0127, dtype=torch.float64, grad_fn=<MseLossBackward0>)\n",
      "tensor(0.0419, dtype=torch.float64, grad_fn=<MseLossBackward0>)\n",
      "tensor(0.0065, dtype=torch.float64, grad_fn=<MseLossBackward0>)\n",
      "tensor(0.0141, dtype=torch.float64, grad_fn=<MseLossBackward0>)\n",
      "tensor(0.0059, dtype=torch.float64, grad_fn=<MseLossBackward0>)\n"
     ]
    }
   ],
   "source": [
    "model = my_network(A.shape[0],  A.shape[1])\n",
    "criterion = nn.MSELoss()\n",
    "optim = torch.optim.Adam(model.parameters(), lr=0.001)\n",
    "model=model.double()\n",
    "number_of_epochs = 10\n",
    "for epoch in range(number_of_epochs):\n",
    "    # move from full batch Adam to STOCHASTIC Adam ->> work with minibatches! \n",
    "    \n",
    "    ## all that is left to do is shuffle the data every epoch\n",
    "    for i,ele in enumerate(trainloader):\n",
    "        batch_input,batch_output = ele\n",
    "        prediction = model(batch_input)\n",
    "        loss = criterion(prediction, batch_output.double())\n",
    "        optim.zero_grad()\n",
    "        loss.backward()\n",
    "        optim.step()\n",
    "    \n",
    "    if epoch%1==0:\n",
    "        print(loss)"
   ]
  },
  {
   "cell_type": "markdown",
   "metadata": {},
   "source": [
    "Making a prediction with the learned model"
   ]
  },
  {
   "cell_type": "code",
   "execution_count": 13,
   "metadata": {},
   "outputs": [],
   "source": [
    "prediction = model(torch.reshape(sinogram_noisy,(sinogram_noisy.shape[0],sinogram_noisy.shape[1]*sinogram_noisy.shape[2]))[0].double())"
   ]
  },
  {
   "cell_type": "markdown",
   "metadata": {},
   "source": [
    "Plotting results and Label image "
   ]
  },
  {
   "cell_type": "code",
   "execution_count": 14,
   "metadata": {},
   "outputs": [
    {
     "data": {
      "image/png": "[encoded data removed]",
      "text/plain": [
       "<Figure size 360x360 with 1 Axes>"
      ]
     },
     "metadata": {
      "needs_background": "light"
     },
     "output_type": "display_data"
    },
    {
     "data": {
      "text/plain": [
       "<matplotlib.image.AxesImage at 0x29ccb3f3310>"
      ]
     },
     "execution_count": 14,
     "metadata": {},
     "output_type": "execute_result"
    },
    {
     "data": {
      "image/png": "[encoded data removed]",
      "text/plain": [
       "<Figure size 432x288 with 1 Axes>"
      ]
     },
     "metadata": {
      "needs_background": "light"
     },
     "output_type": "display_data"
    }
   ],
   "source": [
    "import matplotlib.pyplot as plt\n",
    "plt.figure(figsize=(5,5))\n",
    "plt.imshow(np.reshape(prediction.detach().numpy(), (ny,nx)), cmap='gray')\n",
    "plt.show()\n",
    "pseudo_inverse_of_A = np.linalg.pinv(A)\n",
    "reconstruction = pseudo_inverse_of_A@torch.reshape(sinogram_noisy,(sinogram_noisy.shape[0],sinogram_noisy.shape[1]*sinogram_noisy.shape[2]))[0].detach().numpy()\n",
    "plt.imshow(np.reshape(reconstruction, (ny,nx)), cmap='gray')\n"
   ]
  }
 ],
 "metadata": {
  "interpreter": {
   "hash": "47d4919c2b5981f2deff35374c5ce5b6fe5c28dd13ad72fe523014a8b8075ff7"
  },
  "kernelspec": {
   "display_name": "Python 3 (ipykernel)",
   "language": "python",
   "name": "python3"
  },
  "language_info": {
   "codemirror_mode": {
    "name": "ipython",
    "version": 3
   },
   "file_extension": ".py",
   "mimetype": "text/x-python",
   "name": "python",
   "nbconvert_exporter": "python",
   "pygments_lexer": "ipython3",
   "version": "3.8.5"
  }
 },
 "nbformat": 4,
 "nbformat_minor": 2
}
