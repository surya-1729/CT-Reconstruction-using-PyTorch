{
 "cells": [
  {
   "cell_type": "code",
   "execution_count": 531,
   "metadata": {},
   "outputs": [],
   "source": [
    "import torch\n",
    "import torchvision\n",
    "import torchvision.transforms as transforms\n",
    "import torchvision.datasets as datasets\n",
    "from torch.utils.data import TensorDataset\n",
    "from torch.utils.data import DataLoader\n",
    "import matplotlib.pyplot as plt\n",
    "%matplotlib inline\n",
    "import numpy as np\n",
    "from skimage.transform import radon"
   ]
  },
  {
   "cell_type": "markdown",
   "metadata": {},
   "source": [
    "## Utilize the GPU using CUDA"
   ]
  },
  {
   "cell_type": "code",
   "execution_count": 532,
   "metadata": {},
   "outputs": [
    {
     "name": "stdout",
     "output_type": "stream",
     "text": [
      "cuda\n"
     ]
    }
   ],
   "source": [
    "# CUDA for PyTorch\n",
    "device = 'cuda' if torch.cuda.is_available() else 'cpu'\n",
    "print(device)"
   ]
  },
  {
   "cell_type": "code",
   "execution_count": 533,
   "metadata": {},
   "outputs": [
    {
     "name": "stdout",
     "output_type": "stream",
     "text": [
      "NVIDIA GeForce GTX 1660 Ti\n",
      "Memory Usage:\n",
      "Allocated: 0.0 GB\n",
      "Cached:    1.9 GB\n"
     ]
    }
   ],
   "source": [
    "if device == 'cuda':\n",
    "    print(torch.cuda.get_device_name(0))\n",
    "    print('Memory Usage:')\n",
    "    print('Allocated:', round(torch.cuda.memory_allocated(0)/1024**3,1), 'GB')\n",
    "    print('Cached:   ', round(torch.cuda.memory_reserved(0)/1024**3,1), 'GB')"
   ]
  },
  {
   "cell_type": "markdown",
   "metadata": {},
   "source": [
    "## Step1_Data required for model training"
   ]
  },
  {
   "cell_type": "code",
   "execution_count": 534,
   "metadata": {},
   "outputs": [],
   "source": [
    "# transform = transforms.Compose(transforms.ToTensor())\n",
    "# transform = transforms.Compose([transforms.ToTensor(),transforms.Normalize((0.5,), (0.5,))])"
   ]
  },
  {
   "cell_type": "code",
   "execution_count": 535,
   "metadata": {},
   "outputs": [
    {
     "data": {
      "text/plain": [
       "(False, False)"
      ]
     },
     "execution_count": 535,
     "metadata": {},
     "output_type": "execute_result"
    }
   ],
   "source": [
    "## MNIST Data\n",
    "n_samples = 100\n",
    "train_data = datasets.MNIST(root = './data', train = True, download = True).data / 255\n",
    "test_data = datasets.MNIST(root = './data', train = False, download = True).data / 255\n",
    "train_data.is_cuda, test_data.is_cuda"
   ]
  },
  {
   "cell_type": "markdown",
   "metadata": {},
   "source": [
    "## Radon matrix construction "
   ]
  },
  {
   "cell_type": "code",
   "execution_count": 536,
   "metadata": {},
   "outputs": [],
   "source": [
    "# Radon Matrix exists for every angle and every line. matrix \n",
    "def getRadonMatrix(theta,ny,nx):\n",
    "    colum_of_A = radon(np.zeros((ny,nx)), theta = theta) # this is only to know the size\n",
    "    A = np.zeros((colum_of_A.size, nx*ny))\n",
    "    for i in range(ny):\n",
    "        for j in range(nx):\n",
    "            basis_vec = np.zeros((ny,nx))\n",
    "            basis_vec[i,j] = 1\n",
    "            colum_of_A = radon(basis_vec, theta = theta)\n",
    "            A[:,j+i*nx] = np.reshape(colum_of_A, colum_of_A.size)\n",
    "    return torch.from_numpy(A).float()"
   ]
  },
  {
   "cell_type": "code",
   "execution_count": 537,
   "metadata": {
    "scrolled": false
   },
   "outputs": [
    {
     "name": "stderr",
     "output_type": "stream",
     "text": [
      "C:\\Users\\asvp0\\Anaconda3\\envs\\dl21\\lib\\site-packages\\skimage\\transform\\radon_transform.py:75: UserWarning: Radon transform: image must be zero outside the reconstruction circle\n",
      "  warn('Radon transform: image must be zero outside the '\n"
     ]
    }
   ],
   "source": [
    "nx, ny = train_data[1].shape \n",
    "\n",
    "# theta values for X ray incidence angles\n",
    "theta = np.linspace(0,180,14,endpoint = True)\n",
    "\n",
    "# call getRadonMatrix\n",
    "A = getRadonMatrix(theta, ny, nx)"
   ]
  },
  {
   "cell_type": "markdown",
   "metadata": {},
   "source": [
    "##  Noisy Sinogram vector using Radon matrix"
   ]
  },
  {
   "cell_type": "code",
   "execution_count": 538,
   "metadata": {},
   "outputs": [],
   "source": [
    "def sinogram(image_data):\n",
    "    sino_gram = image_data @ A.T\n",
    "    noise_level = 0.01 \n",
    "    sino_gram += noise_level * torch.randn(sino_gram.shape)\n",
    "    return sino_gram.double()"
   ]
  },
  {
   "cell_type": "code",
   "execution_count": 539,
   "metadata": {},
   "outputs": [
    {
     "data": {
      "text/plain": [
       "(False, False)"
      ]
     },
     "execution_count": 539,
     "metadata": {},
     "output_type": "execute_result"
    }
   ],
   "source": [
    "train_data = np.reshape(train_data, (train_data.shape[0],train_data.shape[1]*train_data.shape[2]))\n",
    "sinogram_train = sinogram(train_data)\n",
    "test_data = np.reshape(test_data, (test_data.shape[0],test_data.shape[1]*test_data.shape[2]))\n",
    "sinogram_test = sinogram(test_data)\n",
    "train_data.is_cuda, sinogram_train.is_cuda "
   ]
  },
  {
   "cell_type": "code",
   "execution_count": 540,
   "metadata": {},
   "outputs": [],
   "source": [
    "sinogram_shape = sinogram_train.shape"
   ]
  },
  {
   "cell_type": "markdown",
   "metadata": {},
   "source": [
    "## Dataloader to try batches of data"
   ]
  },
  {
   "cell_type": "code",
   "execution_count": 541,
   "metadata": {},
   "outputs": [],
   "source": [
    "dataset_train = TensorDataset(sinogram_train.double(), train_data.double())"
   ]
  },
  {
   "cell_type": "code",
   "execution_count": 542,
   "metadata": {},
   "outputs": [],
   "source": [
    "# train_loader = DataLoader(dataset = (sinogram_train, train_data), batch_size=20, shuffle=False)\n",
    "train_loader = DataLoader(dataset = dataset_train, batch_size=20, shuffle=False)"
   ]
  },
  {
   "cell_type": "markdown",
   "metadata": {},
   "source": [
    "## Step2_Network architecture"
   ]
  },
  {
   "cell_type": "code",
   "execution_count": 543,
   "metadata": {},
   "outputs": [],
   "source": [
    "import torch\n",
    "import torch.nn as nn\n",
    "import torch.functional as F\n",
    "\n",
    "\n",
    "class my_network(nn.Module):\n",
    "    def __init__(self,dimension_of_sinogram , number_of_pixels):\n",
    "        super().__init__()\n",
    "        self.encoder = nn.Sequential(\n",
    "        #nn.Conv2d(in_channels = 1, out_channels = 4, kernel_size = (3,3), stride = 1),       ## 20, \n",
    "           \n",
    "        nn.Linear(dimension_of_sinogram , number_of_pixels, bias=False),\n",
    "        nn.Sigmoid(),      \n",
    "        nn.Linear(number_of_pixels, number_of_pixels, bias=False)\n",
    "        )\n",
    "        \n",
    "    def forward(self, x):\n",
    "        return self.encoder(x)"
   ]
  },
  {
   "cell_type": "markdown",
   "metadata": {},
   "source": [
    "## Step3_Model ingredients"
   ]
  },
  {
   "cell_type": "code",
   "execution_count": 544,
   "metadata": {},
   "outputs": [],
   "source": [
    "model = my_network(A.shape[0],  A.shape[1])\n",
    "criterion = nn.MSELoss()\n",
    "optim = torch.optim.Adam(model.parameters(), lr=1e-3) # stochastic gradient descent - torch.optim.SGD\n",
    "model = model.double()"
   ]
  },
  {
   "cell_type": "markdown",
   "metadata": {},
   "source": [
    "## Step4_Model Training - forward, backward, weight updates"
   ]
  },
  {
   "cell_type": "code",
   "execution_count": 548,
   "metadata": {
    "scrolled": false
   },
   "outputs": [
    {
     "name": "stdout",
     "output_type": "stream",
     "text": [
      "tensor(0.0085, dtype=torch.float64, grad_fn=<MseLossBackward0>)\n",
      "tensor(0.0073, dtype=torch.float64, grad_fn=<MseLossBackward0>)\n",
      "tensor(0.0092, dtype=torch.float64, grad_fn=<MseLossBackward0>)\n"
     ]
    }
   ],
   "source": [
    "number_of_epochs = 10\n",
    "for epoch in range(number_of_epochs+1):\n",
    "    \n",
    "    for sinogram_input, image_target in train_loader:\n",
    "\n",
    "        # forward pass and loss\n",
    "        prediction = model(sinogram_input)\n",
    "        loss = criterion(prediction, image_target)\n",
    "\n",
    "        # backward pass - gradients calculated here\n",
    "        loss.backward()\n",
    "\n",
    "        # update parameters\n",
    "        optim.step()\n",
    "        \n",
    "        # If not use zero_grad() =>> the loss will increase not decrease as required.\n",
    "        # So, to zero the gradients in before iteration =>>\n",
    "        optim.zero_grad()\n",
    "        \n",
    "    if epoch%5 == 0:\n",
    "        print(loss)"
   ]
  },
  {
   "cell_type": "markdown",
   "metadata": {},
   "source": [
    "## Step5_Plotting results"
   ]
  },
  {
   "cell_type": "code",
   "execution_count": 549,
   "metadata": {},
   "outputs": [
    {
     "data": {
      "image/png": "[encoded data removed]",
      "text/plain": [
       "<Figure size 1008x432 with 4 Axes>"
      ]
     },
     "metadata": {
      "needs_background": "light"
     },
     "output_type": "display_data"
    }
   ],
   "source": [
    "## all data to be in numpy arrays in cpu to plot using matplotlib.pyplot\n",
    "sinogram_from_radon = sinogram_input.detach().numpy()\n",
    "reconstruction = prediction.detach().numpy()\n",
    "imageTarget = image_target.detach().numpy()\n",
    "pseudo_inversed_image = sinogram_from_radon @ np.linalg.pinv(A.T)\n",
    "\n",
    "f, axis = plt.subplots(nrows = 1,ncols = 4,sharex=True, figsize=(14,6), squeeze=True)\n",
    "\n",
    "axis[0].imshow(np.reshape(reconstruction[1], (ny,nx)), cmap='gray')\n",
    "axis[0].set_title('image_from_model', fontsize=\"xx-large\")\n",
    "axis[1].imshow(np.reshape(sinogram_from_radon[1], (14,nx)), cmap='gray')\n",
    "axis[1].set_title('sinogram_from_radon', fontsize=\"xx-large\")\n",
    "axis[1].set_ylabel('no_of_theta', fontsize=\"xx-large\")\n",
    "axis[1].set_xlabel('nx', fontsize=\"xx-large\")\n",
    "axis[2].imshow(np.reshape(imageTarget[1], (ny,nx)), cmap='gray')\n",
    "axis[2].set_title('mnist_image', fontsize=\"xx-large\")\n",
    "axis[3].imshow(np.reshape(pseudo_inversed_image[1], (ny,nx)), cmap='gray')\n",
    "axis[3].set_title('pseudo_inversed_image', fontsize=\"xx-large\")\n",
    "\n",
    "plt.savefig('sinogram and image')\n",
    "plt.show()"
   ]
  },
  {
   "cell_type": "markdown",
   "metadata": {},
   "source": [
    "## Step6_Save the model"
   ]
  },
  {
   "cell_type": "code",
   "execution_count": 550,
   "metadata": {},
   "outputs": [],
   "source": [
    "torch.save(model.state_dict(), './model_two_linear_with_Sigmoid_activation')"
   ]
  },
  {
   "cell_type": "code",
   "execution_count": null,
   "metadata": {},
   "outputs": [],
   "source": []
  }
 ],
 "metadata": {
  "kernelspec": {
   "display_name": "Python 3 (ipykernel)",
   "language": "python",
   "name": "python3"
  },
  "language_info": {
   "codemirror_mode": {
    "name": "ipython",
    "version": 3
   },
   "file_extension": ".py",
   "mimetype": "text/x-python",
   "name": "python",
   "nbconvert_exporter": "python",
   "pygments_lexer": "ipython3",
   "version": "3.8.5"
  }
 },
 "nbformat": 4,
 "nbformat_minor": 4
}
