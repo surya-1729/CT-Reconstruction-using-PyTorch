{
 "cells": [
  {
   "cell_type": "code",
   "execution_count": 27,
   "metadata": {},
   "outputs": [],
   "source": [
    "import torch\n",
    "import torchvision\n",
    "import torchvision.transforms as transforms\n",
    "import torchvision.datasets as datasets\n",
    "from torch.utils.data import TensorDataset\n",
    "from torch.utils.data import DataLoader\n",
    "import matplotlib.pyplot as plt\n",
    "import numpy as np\n",
    "from skimage.transform import radon\n",
    "import torch.nn as nn\n",
    "import torch.functional as F"
   ]
  },
  {
   "cell_type": "markdown",
   "metadata": {},
   "source": [
    "## Utilize the GPU using CUDA"
   ]
  },
  {
   "cell_type": "code",
   "execution_count": 3,
   "metadata": {},
   "outputs": [
    {
     "name": "stdout",
     "output_type": "stream",
     "text": [
      "cuda\n"
     ]
    }
   ],
   "source": [
    "# CUDA for PyTorch\n",
    "device = 'cuda' if torch.cuda.is_available() else 'cpu'\n",
    "print(device)"
   ]
  },
  {
   "cell_type": "code",
   "execution_count": 4,
   "metadata": {},
   "outputs": [
    {
     "name": "stdout",
     "output_type": "stream",
     "text": [
      "NVIDIA GeForce GTX 1660 Ti\n",
      "Memory Usage:\n",
      "Allocated: 0.0 GB\n",
      "Cached:    0.0 GB\n"
     ]
    }
   ],
   "source": [
    "if device == 'cuda':\n",
    "    print(torch.cuda.get_device_name(0))\n",
    "    print('Memory Usage:')\n",
    "    print('Allocated:', round(torch.cuda.memory_allocated(0)/1024**3,1), 'GB')\n",
    "    print('Cached:   ', round(torch.cuda.memory_reserved(0)/1024**3,1), 'GB')"
   ]
  },
  {
   "cell_type": "markdown",
   "metadata": {},
   "source": [
    "## Step1_Data required for model training"
   ]
  },
  {
   "cell_type": "code",
   "execution_count": 5,
   "metadata": {},
   "outputs": [],
   "source": [
    "# transform = transforms.Compose(transforms.ToTensor())\n",
    "# transform = transforms.Compose([transforms.ToTensor(),transforms.Normalize((0.5,), (0.5,))])"
   ]
  },
  {
   "cell_type": "code",
   "execution_count": 13,
   "metadata": {},
   "outputs": [
    {
     "data": {
      "text/plain": [
       "(False, False)"
      ]
     },
     "execution_count": 13,
     "metadata": {},
     "output_type": "execute_result"
    }
   ],
   "source": [
    "## MNIST Data\n",
    "n_samples = 100\n",
    "train_data = datasets.MNIST(root = './data', train = True, download = True).data / 255\n",
    "test_data = datasets.MNIST(root = './data', train = False, download = True).data / 255\n",
    "train_data.is_cuda, test_data.is_cuda"
   ]
  },
  {
   "cell_type": "code",
   "execution_count": 14,
   "metadata": {},
   "outputs": [
    {
     "data": {
      "text/plain": [
       "torch.Size([60000, 28, 28])"
      ]
     },
     "execution_count": 14,
     "metadata": {},
     "output_type": "execute_result"
    }
   ],
   "source": [
    "train_data.shape"
   ]
  },
  {
   "cell_type": "markdown",
   "metadata": {},
   "source": [
    "## Radon matrix construction "
   ]
  },
  {
   "cell_type": "code",
   "execution_count": 7,
   "metadata": {},
   "outputs": [],
   "source": [
    "# Radon Matrix exists for every angle and every line. matrix \n",
    "def getRadonMatrix(theta,ny,nx):\n",
    "    colum_of_A = radon(np.zeros((ny,nx)), theta = theta) # this is only to know the size\n",
    "    A = np.zeros((colum_of_A.size, nx*ny))\n",
    "    for i in range(ny):\n",
    "        for j in range(nx):\n",
    "            basis_vec = np.zeros((ny,nx))\n",
    "            basis_vec[i,j] = 1\n",
    "            colum_of_A = radon(basis_vec, theta = theta)\n",
    "            A[:,j+i*nx] = np.reshape(colum_of_A, colum_of_A.size)\n",
    "    return torch.from_numpy(A).double()"
   ]
  },
  {
   "cell_type": "code",
   "execution_count": 16,
   "metadata": {
    "scrolled": false
   },
   "outputs": [
    {
     "name": "stderr",
     "output_type": "stream",
     "text": [
      "C:\\Users\\asvp0\\Anaconda3\\envs\\dl21\\lib\\site-packages\\skimage\\transform\\radon_transform.py:75: UserWarning: Radon transform: image must be zero outside the reconstruction circle\n",
      "  warn('Radon transform: image must be zero outside the '\n"
     ]
    }
   ],
   "source": [
    "nx, ny = train_data[1].shape \n",
    "\n",
    "# theta values for X ray incidence angles\n",
    "theta = np.linspace(0,180,14,endpoint = True)\n",
    "\n",
    "# call getRadonMatrix\n",
    "A = getRadonMatrix(theta, ny, nx)\n",
    "pinv_A = torch.from_numpy(np.linalg.pinv(A)).double()"
   ]
  },
  {
   "cell_type": "markdown",
   "metadata": {},
   "source": [
    "##  Noisy Sinogram vector using Radon matrix"
   ]
  },
  {
   "cell_type": "code",
   "execution_count": 17,
   "metadata": {},
   "outputs": [],
   "source": [
    "def sinogram(image_data):\n",
    "    sino_gram = image_data @ A.T\n",
    "    noise_level = 0.01 \n",
    "    sino_gram += noise_level * torch.randn(sino_gram.shape)\n",
    "    return sino_gram.double()"
   ]
  },
  {
   "cell_type": "code",
   "execution_count": 25,
   "metadata": {},
   "outputs": [
    {
     "data": {
      "text/plain": [
       "<function Tensor.type>"
      ]
     },
     "execution_count": 25,
     "metadata": {},
     "output_type": "execute_result"
    }
   ],
   "source": [
    "train_data.type"
   ]
  },
  {
   "cell_type": "code",
   "execution_count": 19,
   "metadata": {},
   "outputs": [
    {
     "data": {
      "text/plain": [
       "(False, False)"
      ]
     },
     "execution_count": 19,
     "metadata": {},
     "output_type": "execute_result"
    }
   ],
   "source": [
    "train_data = np.reshape(train_data, (train_data.shape[0],train_data.shape[1]*train_data.shape[2]))\n",
    "sinogram_train = sinogram(train_data.double())\n",
    "test_data = np.reshape(test_data, (test_data.shape[0],test_data.shape[1]*test_data.shape[2]))\n",
    "sinogram_test = sinogram(test_data.double())\n",
    "train_data.is_cuda, sinogram_train.is_cuda "
   ]
  },
  {
   "cell_type": "code",
   "execution_count": 22,
   "metadata": {},
   "outputs": [
    {
     "data": {
      "text/plain": [
       "torch.Size([60000, 392])"
      ]
     },
     "execution_count": 22,
     "metadata": {},
     "output_type": "execute_result"
    }
   ],
   "source": [
    "sinogram_shape = sinogram_train.shape\n",
    "sinogram_shape"
   ]
  },
  {
   "cell_type": "markdown",
   "metadata": {},
   "source": [
    "## Dataloader to try batches of data"
   ]
  },
  {
   "cell_type": "code",
   "execution_count": 23,
   "metadata": {},
   "outputs": [
    {
     "data": {
      "text/plain": [
       "torch.Size([60000, 784])"
      ]
     },
     "execution_count": 23,
     "metadata": {},
     "output_type": "execute_result"
    }
   ],
   "source": [
    "sinogram_train = sinogram_train.to(device)\n",
    "train_data = train_data.to(device)\n",
    "dataset_train = TensorDataset(sinogram_train.double(), train_data.double())\n",
    "train_data.shape"
   ]
  },
  {
   "cell_type": "code",
   "execution_count": 24,
   "metadata": {},
   "outputs": [],
   "source": [
    "# train_loader = DataLoader(dataset = (sinogram_train, train_data), batch_size=20, shuffle=False)\n",
    "batch_size=20\n",
    "train_loader = DataLoader(dataset = dataset_train, batch_size = 20, shuffle=False)"
   ]
  },
  {
   "cell_type": "markdown",
   "metadata": {},
   "source": [
    "## Step2_Network architecture"
   ]
  },
  {
   "cell_type": "code",
   "execution_count": 40,
   "metadata": {},
   "outputs": [],
   "source": [
    "class my_network(nn.Module):\n",
    "    def __init__(self):\n",
    "        super(my_network, self).__init__()\n",
    "   \n",
    "        hidden = 4\n",
    "    \n",
    "        # self.fc1 = nn.Linear(A.size()[1], hidden)\n",
    "        self.conv1image = nn.Conv2d(1, hidden, 3, padding=1)\n",
    "        self.conv2image = nn.Conv2d(hidden,1, 3, padding=1)\n",
    "        self.conv1sino = nn.Conv2d(1, hidden, 3, padding=1)\n",
    "        self.conv2sino = nn.Conv2d(hidden,1, 3, padding=1)\n",
    "        # self.fc2 = nn.Linear(hidden, A.size()[1])\n",
    "        \n",
    "    def forward(self,sinogram,A, pinv_A, maxiter, tau):\n",
    "        # A needs to be of dimension: (sinogram_dimension x image_pixels)\n",
    "        # sinogram will be of dimension: (number_of_examples (batchsize)  x  sinogram_dimension) \n",
    "        output = (sinogram @ pinv_A.T).double()\n",
    "        for i in range(maxiter):    \n",
    "            # possible here: Design a small sinogramCNN on err!\n",
    "            batch_size = sinogram.shape[0]\n",
    "            err = (output @ A.T - sinogram)\n",
    "            err = torch.reshape(err,(batch_size,1,len(theta),ny))\n",
    "            err = self.conv2sino(nn.functional.relu(self.conv1sino(err)))\n",
    "            err = torch.reshape(err,(batch_size,len(theta) * ny))\n",
    "            intermediateoutput = output - tau * err @ A\n",
    "            intermediateoutput = torch.reshape(intermediateoutput,(batch_size,1, nx, ny))\n",
    "            output = self.conv2image(nn.functional.relu(self.conv1image(intermediateoutput)))\n",
    "            output = torch.reshape(output,(batch_size, nx * ny))\n",
    "            \n",
    "            \n",
    "            # in the above notation imageSpaceCNN = self.conv2(nn.functional.relu(self.conv1( * )))\n",
    "        \n",
    "        output = torch.reshape(output,(batch_size, 1, nx , ny))\n",
    "        # weights for sharpening the image from \"https://setosa.io/ev/image-kernels/\"\n",
    "        # https://discuss.pytorch.org/t/setting-custom-kernel-for-cnn-in-pytorch/27176/3\n",
    "        weights = torch.tensor([[0., -1., 0.],\n",
    "                                [-1., 5., -1.],\n",
    "                                [0., -1., 0.]], requires_grad = False)\n",
    "        weights = weights.view(1, 1, 3, 3).repeat(1, 1, 1, 1) / 4\n",
    "        sharpening_conv = nn.Conv2d(1, 1, 3, bias=False)\n",
    "        with torch.no_grad():\n",
    "            sharpening_conv.weight = nn.Parameter(weights)\n",
    "        sharpening_conv.weight.requires_grad = False\n",
    "        output = torch.reshape(output,(batch_size, nx * ny))\n",
    "        \n",
    "        return output"
   ]
  },
  {
   "cell_type": "markdown",
   "metadata": {},
   "source": [
    "## Step3_Model ingredients"
   ]
  },
  {
   "cell_type": "code",
   "execution_count": 41,
   "metadata": {},
   "outputs": [],
   "source": [
    "maxiter = 5\n",
    "tau = 0.01\n",
    "model = my_network()\n",
    "criterion = nn.MSELoss()\n",
    "optim = torch.optim.Adam(model.parameters(), lr=1e-3) # stochastic gradient descent - torch.optim.SGD\n",
    "model = model.double()\n",
    "# Transferring the model to a CUDA enabled GPU\n",
    "model = model.to(device)"
   ]
  },
  {
   "cell_type": "markdown",
   "metadata": {},
   "source": [
    "## Step4_Model Training - forward, backward, weight updates"
   ]
  },
  {
   "cell_type": "code",
   "execution_count": 42,
   "metadata": {
    "scrolled": false
   },
   "outputs": [
    {
     "name": "stdout",
     "output_type": "stream",
     "text": [
      "tensor(0.0015, device='cuda:0', dtype=torch.float64,\n",
      "       grad_fn=<MseLossBackward0>)\n",
      "tensor(0.0009, device='cuda:0', dtype=torch.float64,\n",
      "       grad_fn=<MseLossBackward0>)\n",
      "tensor(0.0007, device='cuda:0', dtype=torch.float64,\n",
      "       grad_fn=<MseLossBackward0>)\n",
      "tensor(0.0007, device='cuda:0', dtype=torch.float64,\n",
      "       grad_fn=<MseLossBackward0>)\n",
      "tensor(0.0006, device='cuda:0', dtype=torch.float64,\n",
      "       grad_fn=<MseLossBackward0>)\n",
      "tensor(0.0006, device='cuda:0', dtype=torch.float64,\n",
      "       grad_fn=<MseLossBackward0>)\n"
     ]
    }
   ],
   "source": [
    "# store everything needed for model in GPU\n",
    "A = A.to(device)\n",
    "pinv_A = pinv_A.to(device)\n",
    "# maxiter = maxiter.to(device)\n",
    "# tau = tau.to(device)\n",
    "\n",
    "number_of_epochs = 5\n",
    "for epoch in range(number_of_epochs+1):\n",
    "    \n",
    "    for sinogram_input, image_target in train_loader:\n",
    "        # forward pass and loss\n",
    "        prediction = model(sinogram_input, A, pinv_A, maxiter, tau)\n",
    "        loss = criterion(prediction, image_target)\n",
    "\n",
    "        # backward pass - gradients calculated here\n",
    "        loss.backward()\n",
    "\n",
    "        # update parameters\n",
    "        optim.step()\n",
    "        \n",
    "        # If not use zero_grad() =>> the loss will increase not decrease as required.\n",
    "        # So, to zero the gradients in before iteration =>>\n",
    "        optim.zero_grad()\n",
    "        \n",
    "    if epoch%1 == 0:\n",
    "        print(loss)"
   ]
  },
  {
   "cell_type": "code",
   "execution_count": 18,
   "metadata": {},
   "outputs": [
    {
     "data": {
      "text/plain": [
       "<generator object Module.parameters at 0x0000020CA3A8CE40>"
      ]
     },
     "execution_count": 18,
     "metadata": {},
     "output_type": "execute_result"
    }
   ],
   "source": [
    "for name, param in model.parameters():"
   ]
  },
  {
   "cell_type": "markdown",
   "metadata": {},
   "source": [
    "## Step5_Plotting results"
   ]
  },
  {
   "cell_type": "code",
   "execution_count": 43,
   "metadata": {},
   "outputs": [
    {
     "data": {
      "text/plain": [
       "Text(0.5, 1.0, 'pseudo_inversed_image')"
      ]
     },
     "execution_count": 43,
     "metadata": {},
     "output_type": "execute_result"
    },
    {
     "data": {
      "image/png": "[encoded data removed]",
      "text/plain": [
       "<Figure size 1008x432 with 3 Axes>"
      ]
     },
     "metadata": {
      "needs_background": "light"
     },
     "output_type": "display_data"
    }
   ],
   "source": [
    "## all data to be in numpy arrays in cpu to plot using matplotlib.pyplot\n",
    "sinogram_from_radon = sinogram_input.cpu().detach().numpy()\n",
    "reconstruction = prediction.cpu().detach().numpy()\n",
    "imageTarget = image_target.cpu().detach().numpy()\n",
    "pseudo_inversed_image = sinogram_from_radon @ np.linalg.pinv(A.T.cpu().detach().numpy())\n",
    "\n",
    "f, axis = plt.subplots(nrows = 1,ncols = 3,sharex=True, figsize=(14,6), squeeze=True)\n",
    "\n",
    "axis[0].imshow(np.reshape(reconstruction[1], (ny,nx)), cmap='gray')\n",
    "axis[0].set_title('image_from_model', fontsize=\"xx-large\")\n",
    "# axis[1].imshow(np.reshape(sinogram_from_radon[1], (14,nx)), cmap='gray')\n",
    "# axis[1].set_title('sinogram_from_radon', fontsize=\"xx-large\")\n",
    "# axis[1].set_ylabel('no_of_theta', fontsize=\"xx-large\")\n",
    "# axis[1].set_xlabel('nx', fontsize=\"xx-large\")\n",
    "axis[1].imshow(np.reshape(imageTarget[1], (ny,nx)), cmap='gray')\n",
    "axis[1].set_title('mnist_image', fontsize=\"xx-large\")\n",
    "axis[2].imshow(np.reshape(pseudo_inversed_image[1], (ny,nx)), cmap='gray')\n",
    "axis[2].set_title('pseudo_inversed_image', fontsize=\"xx-large\")"
   ]
  },
  {
   "cell_type": "markdown",
   "metadata": {},
   "source": [
    "## Step6_Save the model"
   ]
  },
  {
   "cell_type": "code",
   "execution_count": 20,
   "metadata": {},
   "outputs": [],
   "source": [
    "torch.save(model.state_dict(), './model_cnn_without_customkernel')"
   ]
  },
  {
   "cell_type": "markdown",
   "metadata": {},
   "source": [
    "## Step7_test the model with testing data"
   ]
  },
  {
   "cell_type": "code",
   "execution_count": 44,
   "metadata": {},
   "outputs": [
    {
     "ename": "RuntimeError",
     "evalue": "CUDA out of memory. Tried to allocate 240.00 MiB (GPU 0; 6.00 GiB total capacity; 4.05 GiB already allocated; 0 bytes free; 4.30 GiB reserved in total by PyTorch) If reserved memory is >> allocated memory try setting max_split_size_mb to avoid fragmentation.  See documentation for Memory Management and PYTORCH_CUDA_ALLOC_CONF",
     "output_type": "error",
     "traceback": [
      "\u001b[1;31m---------------------------------------------------------------------------\u001b[0m",
      "\u001b[1;31mRuntimeError\u001b[0m                              Traceback (most recent call last)",
      "\u001b[1;32m~\\AppData\\Local\\Temp/ipykernel_17520/1629500419.py\u001b[0m in \u001b[0;36m<cell line: 9>\u001b[1;34m()\u001b[0m\n\u001b[0;32m      7\u001b[0m \u001b[1;31m# sinogram_train.shape\u001b[0m\u001b[1;33m\u001b[0m\u001b[1;33m\u001b[0m\u001b[1;33m\u001b[0m\u001b[0m\n\u001b[0;32m      8\u001b[0m \u001b[1;33m\u001b[0m\u001b[0m\n\u001b[1;32m----> 9\u001b[1;33m \u001b[0mprediction\u001b[0m \u001b[1;33m=\u001b[0m \u001b[0mmodel\u001b[0m\u001b[1;33m(\u001b[0m\u001b[0msinogram_test\u001b[0m\u001b[1;33m,\u001b[0m \u001b[0mA\u001b[0m\u001b[1;33m,\u001b[0m \u001b[0mpinv_A\u001b[0m\u001b[1;33m,\u001b[0m \u001b[0mmaxiter\u001b[0m\u001b[1;33m,\u001b[0m \u001b[0mtau\u001b[0m\u001b[1;33m)\u001b[0m\u001b[1;33m\u001b[0m\u001b[1;33m\u001b[0m\u001b[0m\n\u001b[0m\u001b[0;32m     10\u001b[0m \u001b[0mloss\u001b[0m \u001b[1;33m=\u001b[0m \u001b[0mcriterion\u001b[0m\u001b[1;33m(\u001b[0m\u001b[0mprediction\u001b[0m\u001b[1;33m,\u001b[0m \u001b[0mimage_target\u001b[0m\u001b[1;33m)\u001b[0m\u001b[1;33m\u001b[0m\u001b[1;33m\u001b[0m\u001b[0m\n\u001b[0;32m     11\u001b[0m \u001b[0mprint\u001b[0m\u001b[1;33m(\u001b[0m\u001b[0mtotal_loss\u001b[0m\u001b[1;33m)\u001b[0m\u001b[1;33m\u001b[0m\u001b[1;33m\u001b[0m\u001b[0m\n",
      "\u001b[1;32m~\\Anaconda3\\envs\\dl21\\lib\\site-packages\\torch\\nn\\modules\\module.py\u001b[0m in \u001b[0;36m_call_impl\u001b[1;34m(self, *input, **kwargs)\u001b[0m\n\u001b[0;32m   1108\u001b[0m         if not (self._backward_hooks or self._forward_hooks or self._forward_pre_hooks or _global_backward_hooks\n\u001b[0;32m   1109\u001b[0m                 or _global_forward_hooks or _global_forward_pre_hooks):\n\u001b[1;32m-> 1110\u001b[1;33m             \u001b[1;32mreturn\u001b[0m \u001b[0mforward_call\u001b[0m\u001b[1;33m(\u001b[0m\u001b[1;33m*\u001b[0m\u001b[0minput\u001b[0m\u001b[1;33m,\u001b[0m \u001b[1;33m**\u001b[0m\u001b[0mkwargs\u001b[0m\u001b[1;33m)\u001b[0m\u001b[1;33m\u001b[0m\u001b[1;33m\u001b[0m\u001b[0m\n\u001b[0m\u001b[0;32m   1111\u001b[0m         \u001b[1;31m# Do not call functions when jit is used\u001b[0m\u001b[1;33m\u001b[0m\u001b[1;33m\u001b[0m\u001b[1;33m\u001b[0m\u001b[0m\n\u001b[0;32m   1112\u001b[0m         \u001b[0mfull_backward_hooks\u001b[0m\u001b[1;33m,\u001b[0m \u001b[0mnon_full_backward_hooks\u001b[0m \u001b[1;33m=\u001b[0m \u001b[1;33m[\u001b[0m\u001b[1;33m]\u001b[0m\u001b[1;33m,\u001b[0m \u001b[1;33m[\u001b[0m\u001b[1;33m]\u001b[0m\u001b[1;33m\u001b[0m\u001b[1;33m\u001b[0m\u001b[0m\n",
      "\u001b[1;32m~\\AppData\\Local\\Temp/ipykernel_17520/3762859733.py\u001b[0m in \u001b[0;36mforward\u001b[1;34m(self, sinogram, A, pinv_A, maxiter, tau)\u001b[0m\n\u001b[0;32m     25\u001b[0m             \u001b[0mintermediateoutput\u001b[0m \u001b[1;33m=\u001b[0m \u001b[0moutput\u001b[0m \u001b[1;33m-\u001b[0m \u001b[0mtau\u001b[0m \u001b[1;33m*\u001b[0m \u001b[0merr\u001b[0m \u001b[1;33m@\u001b[0m \u001b[0mA\u001b[0m\u001b[1;33m\u001b[0m\u001b[1;33m\u001b[0m\u001b[0m\n\u001b[0;32m     26\u001b[0m             \u001b[0mintermediateoutput\u001b[0m \u001b[1;33m=\u001b[0m \u001b[0mtorch\u001b[0m\u001b[1;33m.\u001b[0m\u001b[0mreshape\u001b[0m\u001b[1;33m(\u001b[0m\u001b[0mintermediateoutput\u001b[0m\u001b[1;33m,\u001b[0m\u001b[1;33m(\u001b[0m\u001b[0mbatch_size\u001b[0m\u001b[1;33m,\u001b[0m\u001b[1;36m1\u001b[0m\u001b[1;33m,\u001b[0m \u001b[0mnx\u001b[0m\u001b[1;33m,\u001b[0m \u001b[0mny\u001b[0m\u001b[1;33m)\u001b[0m\u001b[1;33m)\u001b[0m\u001b[1;33m\u001b[0m\u001b[1;33m\u001b[0m\u001b[0m\n\u001b[1;32m---> 27\u001b[1;33m             \u001b[0moutput\u001b[0m \u001b[1;33m=\u001b[0m \u001b[0mself\u001b[0m\u001b[1;33m.\u001b[0m\u001b[0mconv2image\u001b[0m\u001b[1;33m(\u001b[0m\u001b[0mnn\u001b[0m\u001b[1;33m.\u001b[0m\u001b[0mfunctional\u001b[0m\u001b[1;33m.\u001b[0m\u001b[0mrelu\u001b[0m\u001b[1;33m(\u001b[0m\u001b[0mself\u001b[0m\u001b[1;33m.\u001b[0m\u001b[0mconv1image\u001b[0m\u001b[1;33m(\u001b[0m\u001b[0mintermediateoutput\u001b[0m\u001b[1;33m)\u001b[0m\u001b[1;33m)\u001b[0m\u001b[1;33m)\u001b[0m\u001b[1;33m\u001b[0m\u001b[1;33m\u001b[0m\u001b[0m\n\u001b[0m\u001b[0;32m     28\u001b[0m             \u001b[0moutput\u001b[0m \u001b[1;33m=\u001b[0m \u001b[0mtorch\u001b[0m\u001b[1;33m.\u001b[0m\u001b[0mreshape\u001b[0m\u001b[1;33m(\u001b[0m\u001b[0moutput\u001b[0m\u001b[1;33m,\u001b[0m\u001b[1;33m(\u001b[0m\u001b[0mbatch_size\u001b[0m\u001b[1;33m,\u001b[0m \u001b[0mnx\u001b[0m \u001b[1;33m*\u001b[0m \u001b[0mny\u001b[0m\u001b[1;33m)\u001b[0m\u001b[1;33m)\u001b[0m\u001b[1;33m\u001b[0m\u001b[1;33m\u001b[0m\u001b[0m\n\u001b[0;32m     29\u001b[0m \u001b[1;33m\u001b[0m\u001b[0m\n",
      "\u001b[1;32m~\\Anaconda3\\envs\\dl21\\lib\\site-packages\\torch\\nn\\functional.py\u001b[0m in \u001b[0;36mrelu\u001b[1;34m(input, inplace)\u001b[0m\n\u001b[0;32m   1440\u001b[0m         \u001b[0mresult\u001b[0m \u001b[1;33m=\u001b[0m \u001b[0mtorch\u001b[0m\u001b[1;33m.\u001b[0m\u001b[0mrelu_\u001b[0m\u001b[1;33m(\u001b[0m\u001b[0minput\u001b[0m\u001b[1;33m)\u001b[0m\u001b[1;33m\u001b[0m\u001b[1;33m\u001b[0m\u001b[0m\n\u001b[0;32m   1441\u001b[0m     \u001b[1;32melse\u001b[0m\u001b[1;33m:\u001b[0m\u001b[1;33m\u001b[0m\u001b[1;33m\u001b[0m\u001b[0m\n\u001b[1;32m-> 1442\u001b[1;33m         \u001b[0mresult\u001b[0m \u001b[1;33m=\u001b[0m \u001b[0mtorch\u001b[0m\u001b[1;33m.\u001b[0m\u001b[0mrelu\u001b[0m\u001b[1;33m(\u001b[0m\u001b[0minput\u001b[0m\u001b[1;33m)\u001b[0m\u001b[1;33m\u001b[0m\u001b[1;33m\u001b[0m\u001b[0m\n\u001b[0m\u001b[0;32m   1443\u001b[0m     \u001b[1;32mreturn\u001b[0m \u001b[0mresult\u001b[0m\u001b[1;33m\u001b[0m\u001b[1;33m\u001b[0m\u001b[0m\n\u001b[0;32m   1444\u001b[0m \u001b[1;33m\u001b[0m\u001b[0m\n",
      "\u001b[1;31mRuntimeError\u001b[0m: CUDA out of memory. Tried to allocate 240.00 MiB (GPU 0; 6.00 GiB total capacity; 4.05 GiB already allocated; 0 bytes free; 4.30 GiB reserved in total by PyTorch) If reserved memory is >> allocated memory try setting max_split_size_mb to avoid fragmentation.  See documentation for Memory Management and PYTORCH_CUDA_ALLOC_CONF"
     ]
    }
   ],
   "source": [
    "sinogram_test = sinogram_test.to(device)\n",
    "test_data = test_data.to(device)\n",
    "A = A.to(device)\n",
    "pinv_A = pinv_A.to(device)\n",
    "# dataset_test = TensorDataset(sinogram_test.double(), test_data.double())\n",
    "# test_loader = DataLoader(dataset = dataset_test, batch_size = 20, shuffle=False)\n",
    "# sinogram_train.shape\n",
    "\n",
    "prediction = model(sinogram_test, A, pinv_A, maxiter, tau)\n",
    "loss = criterion(prediction, image_target)\n",
    "print(total_loss)"
   ]
  },
  {
   "cell_type": "code",
   "execution_count": 90,
   "metadata": {},
   "outputs": [
    {
     "data": {
      "text/plain": [
       "Text(0.5, 1.0, 'pseudo_inversed_image')"
      ]
     },
     "execution_count": 90,
     "metadata": {},
     "output_type": "execute_result"
    },
    {
     "data": {
      "image/png": "[encoded data removed]",
      "text/plain": [
       "<Figure size 1008x432 with 3 Axes>"
      ]
     },
     "metadata": {
      "needs_background": "light"
     },
     "output_type": "display_data"
    }
   ],
   "source": [
    "## all data to be in numpy arrays in cpu to plot using matplotlib.pyplot\n",
    "sinogram_from_radon = sinogram_input.cpu().detach().numpy()\n",
    "reconstruction = prediction.cpu().detach().numpy()\n",
    "imageTarget = image_target.cpu().detach().numpy()\n",
    "pseudo_inversed_image = sinogram_from_radon @ np.linalg.pinv(A.T.cpu().detach().numpy())\n",
    "\n",
    "f, axis = plt.subplots(nrows = 1,ncols = 3,sharex=True, figsize=(14,6), squeeze=True)\n",
    "\n",
    "axis[0].imshow(np.reshape(reconstruction[1], (ny,nx)), cmap='gray')\n",
    "axis[0].set_title('image_from_model', fontsize=\"xx-large\")\n",
    "# axis[1].imshow(np.reshape(sinogram_from_radon[1], (14,nx)), cmap='gray')\n",
    "# axis[1].set_title('sinogram_from_radon', fontsize=\"xx-large\")\n",
    "# axis[1].set_ylabel('no_of_theta', fontsize=\"xx-large\")\n",
    "# axis[1].set_xlabel('nx', fontsize=\"xx-large\")\n",
    "axis[1].imshow(np.reshape(imageTarget[1], (ny,nx)), cmap='gray')\n",
    "axis[1].set_title('mnist_image', fontsize=\"xx-large\")\n",
    "axis[2].imshow(np.reshape(pseudo_inversed_image[1], (ny,nx)), cmap='gray')\n",
    "axis[2].set_title('pseudo_inversed_image', fontsize=\"xx-large\")"
   ]
  }
 ],
 "metadata": {
  "kernelspec": {
   "display_name": "Python 3 (ipykernel)",
   "language": "python",
   "name": "python3"
  },
  "language_info": {
   "codemirror_mode": {
    "name": "ipython",
    "version": 3
   },
   "file_extension": ".py",
   "mimetype": "text/x-python",
   "name": "python",
   "nbconvert_exporter": "python",
   "pygments_lexer": "ipython3",
   "version": "3.8.5"
  }
 },
 "nbformat": 4,
 "nbformat_minor": 4
}
