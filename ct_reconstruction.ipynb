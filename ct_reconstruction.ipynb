{
 "cells": [
  {
   "cell_type": "code",
   "execution_count": 2,
   "metadata": {},
   "outputs": [],
   "source": [
    "import torch\n",
    "#import torch.nn as nn\n",
    "#import torch.functional as F\n",
    "import torchvision.datasets as dset\n",
    "from torch.utils.data import Dataset, DataLoader\n",
    "from torchvision.transforms import ToTensor\n",
    "\n",
    "#import torchvision.transforms as transforms\n",
    "\n",
    "input_testdata = dset.MNIST( root=\"D:\\Project\\MNIST\", train = True, transform = ToTensor(),\n",
    "                          download= True)\n"
   ]
  },
  {
   "cell_type": "code",
   "execution_count": 35,
   "metadata": {},
   "outputs": [],
   "source": [
    "import matplotlib.pyplot as plt\n",
    "\n",
    "trainloader = torch.utils.data.DataLoader(input_testdata, batch_size=1, shuffle=True)\n",
    "ny,nx=28,28"
   ]
  },
  {
   "cell_type": "code",
   "execution_count": 21,
   "metadata": {},
   "outputs": [],
   "source": [
    "import numpy as np\n",
    "from skimage.transform import radon,rescale,resize\n",
    "\n",
    "theta = np.linspace(0.,180.,14, endpoint=False)\n",
    "sinogram=[]\n",
    "noise_level = 0.02\n",
    "for i,ele in enumerate(trainloader):\n",
    "    image,label = ele\n",
    "    image = image[0].numpy().squeeze()\n",
    "    sinogram.append((radon(image, theta=theta))+noise_level*np.random.randn((radon(image, theta=theta).size)))\n",
    "\n"
   ]
  },
  {
   "cell_type": "code",
   "execution_count": 32,
   "metadata": {},
   "outputs": [
    {
     "name": "stdout",
     "output_type": "stream",
     "text": [
      "(60000, 28, 14)\n"
     ]
    }
   ],
   "source": [
    "sinogram2=np.stack(sinogram)\n",
    "print(sinogram2.shape)"
   ]
  },
  {
   "cell_type": "code",
   "execution_count": 29,
   "metadata": {},
   "outputs": [
    {
     "data": {
      "image/png": "[encoded data removed]",
      "text/plain": [
       "<Figure size 720x720 with 1 Axes>"
      ]
     },
     "metadata": {
      "needs_background": "light"
     },
     "output_type": "display_data"
    },
    {
     "name": "stdout",
     "output_type": "stream",
     "text": [
      "(28, 14)\n"
     ]
    }
   ],
   "source": [
    "\n",
    "plt.figure(figsize=(10,10))\n",
    "plt.imshow(sinogram2[0])\n",
    "plt.show()\n",
    "print(sinogram2[0].shape)"
   ]
  },
  {
   "cell_type": "code",
   "execution_count": 33,
   "metadata": {},
   "outputs": [],
   "source": [
    "def getRadonMatrix(theta,ny,nx):\n",
    "    colum_of_A = radon(np.zeros((ny,nx)), theta=theta)  #  this is just to know the size of this\n",
    "    A = np.zeros((colum_of_A.size,nx*ny))\n",
    "    for i in range(ny):\n",
    "        for j in range(nx):\n",
    "            basis_vec = np.zeros((ny,nx))\n",
    "            basis_vec[i,j] = 1\n",
    "            colum_of_A = radon(basis_vec, theta=theta)\n",
    "            A[:,j+i*nx] = np.reshape(colum_of_A, colum_of_A.size)\n",
    "            \n",
    "    return A"
   ]
  },
  {
   "cell_type": "code",
   "execution_count": 36,
   "metadata": {},
   "outputs": [
    {
     "name": "stderr",
     "output_type": "stream",
     "text": [
      "d:\\Project\\Env\\lib\\site-packages\\skimage\\transform\\radon_transform.py:75: UserWarning: Radon transform: image must be zero outside the reconstruction circle\n",
      "  warn('Radon transform: image must be zero outside the '\n"
     ]
    },
    {
     "data": {
      "image/png": "[encoded data removed]",
      "text/plain": [
       "<Figure size 432x288 with 1 Axes>"
      ]
     },
     "metadata": {
      "needs_background": "light"
     },
     "output_type": "display_data"
    }
   ],
   "source": [
    "A = getRadonMatrix(theta,ny,nx)\n",
    "nr = 105\n",
    "plt.imshow(np.reshape(A[nr,:], (ny,nx)))\n",
    "plt.show()"
   ]
  },
  {
   "cell_type": "code",
   "execution_count": 39,
   "metadata": {},
   "outputs": [
    {
     "name": "stdout",
     "output_type": "stream",
     "text": [
      "784\n"
     ]
    }
   ],
   "source": [
    "print(A.shape[1])"
   ]
  }
 ],
 "metadata": {
  "interpreter": {
   "hash": "47d4919c2b5981f2deff35374c5ce5b6fe5c28dd13ad72fe523014a8b8075ff7"
  },
  "kernelspec": {
   "display_name": "Python 3.10.0 ('Env': venv)",
   "language": "python",
   "name": "python3"
  },
  "language_info": {
   "codemirror_mode": {
    "name": "ipython",
    "version": 3
   },
   "file_extension": ".py",
   "mimetype": "text/x-python",
   "name": "python",
   "nbconvert_exporter": "python",
   "pygments_lexer": "ipython3",
   "version": "3.10.0"
  },
  "orig_nbformat": 4
 },
 "nbformat": 4,
 "nbformat_minor": 2
}
